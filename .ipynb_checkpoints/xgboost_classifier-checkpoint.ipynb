{
 "cells": [
  {
   "cell_type": "code",
   "execution_count": 10,
   "metadata": {},
   "outputs": [],
   "source": [
    "import numpy as np # linear algebra\n",
    "import pandas as pd # data processing, CSV file I/O (e.g. pd.read_csv)\n",
    "import matplotlib.pyplot as plt\n",
    "import matplotlib\n",
    "from sklearn import cross_validation\n",
    "import xgboost as xgb\n",
    "from sklearn.metrics import roc_auc_score, roc_curve\n",
    "\n",
    "import warnings \n",
    "warnings.filterwarnings(\"ignore\")"
   ]
  },
  {
   "cell_type": "code",
   "execution_count": 44,
   "metadata": {
    "collapsed": true
   },
   "outputs": [],
   "source": [
    "data = pd.read_csv(\"train.csv\") \n",
    "data = data.replace(-999999,2)\n",
    "\n",
    "X = data.iloc[:,:-1]\n",
    "y = data.TARGET"
   ]
  },
  {
   "cell_type": "code",
   "execution_count": 45,
   "metadata": {
    "collapsed": true
   },
   "outputs": [],
   "source": [
    "from sklearn.preprocessing import normalize\n",
    "from sklearn.decomposition import PCA\n",
    "\n",
    "X_normalized = normalize(X, axis=0)\n",
    "pca = PCA(n_components=2)\n",
    "X_pca = pca.fit_transform(X_normalized)\n",
    "X['PCA1'] = X_pca[:,0]\n",
    "X['PCA2'] = X_pca[:,1]"
   ]
  },
  {
   "cell_type": "code",
   "execution_count": 46,
   "metadata": {},
   "outputs": [
    {
     "name": "stdout",
     "output_type": "stream",
     "text": [
      "Chi2 selected 279 features.\n",
      "F_classif selected 279 features.\n",
      "Chi2 & F_classif selected 263 features\n"
     ]
    }
   ],
   "source": [
    "from sklearn.feature_selection import SelectPercentile\n",
    "from sklearn.feature_selection import f_classif,chi2\n",
    "from sklearn.preprocessing import Binarizer, scale\n",
    "\n",
    "p = 75 \n",
    "\n",
    "X_bin = Binarizer().fit_transform(scale(X))\n",
    "selectChi2 = SelectPercentile(chi2, percentile=p).fit(X_bin, y)\n",
    "selectF_classif = SelectPercentile(f_classif, percentile=p).fit(X, y)\n",
    "\n",
    "chi2_selected = selectChi2.get_support()\n",
    "chi2_selected_features = [ f for i,f in enumerate(X.columns) if chi2_selected[i]]\n",
    "print('Chi2 selected {} features.'.format(chi2_selected.sum()))\n",
    "f_classif_selected = selectF_classif.get_support()\n",
    "f_classif_selected_features = [ f for i,f in enumerate(X.columns) if f_classif_selected[i]]\n",
    "print('F_classif selected {} features.'.format(f_classif_selected.sum()))\n",
    "selected = chi2_selected & f_classif_selected\n",
    "print('Chi2 & F_classif selected {} features'.format(selected.sum()))\n",
    "features = [ f for f,s in zip(X.columns, selected) if s]\n",
    "\n",
    "X = X[features]\n"
   ]
  },
  {
   "cell_type": "code",
   "execution_count": 47,
   "metadata": {},
   "outputs": [
    {
     "name": "stdout",
     "output_type": "stream",
     "text": [
      "(48652, 263) (15204, 263) (12164, 263)\n",
      "1909 603 496\n"
     ]
    }
   ],
   "source": [
    "from sklearn.model_selection import train_test_split\n",
    "\n",
    "X_train, X_test, y_train, y_test = train_test_split(X, y, test_size=0.2, random_state=1)\n",
    "\n",
    "X_train, X_val, y_train, y_val = train_test_split(X_train, y_train, test_size=0.2, random_state=1)\n",
    "\n",
    "print(X_train.shape, X_test.shape, X_val.shape)\n",
    "print(y_train.sum(), y_test.sum(), y_val.sum())"
   ]
  },
  {
   "cell_type": "code",
   "execution_count": 48,
   "metadata": {},
   "outputs": [
    {
     "name": "stdout",
     "output_type": "stream",
     "text": [
      "[0]\tvalidation_0-auc:0.5\tvalidation_1-auc:0.5\n",
      "Multiple eval metrics have been passed: 'validation_1-auc' will be used for early stopping.\n",
      "\n",
      "Will train until validation_1-auc hasn't improved in 50 rounds.\n",
      "[1]\tvalidation_0-auc:0.5\tvalidation_1-auc:0.5\n",
      "[2]\tvalidation_0-auc:0.5\tvalidation_1-auc:0.5\n",
      "[3]\tvalidation_0-auc:0.5\tvalidation_1-auc:0.5\n",
      "[4]\tvalidation_0-auc:0.5\tvalidation_1-auc:0.5\n",
      "[5]\tvalidation_0-auc:0.5\tvalidation_1-auc:0.5\n",
      "[6]\tvalidation_0-auc:0.5\tvalidation_1-auc:0.5\n",
      "[7]\tvalidation_0-auc:0.5\tvalidation_1-auc:0.5\n",
      "[8]\tvalidation_0-auc:0.5\tvalidation_1-auc:0.5\n",
      "[9]\tvalidation_0-auc:0.5\tvalidation_1-auc:0.5\n",
      "[10]\tvalidation_0-auc:0.5\tvalidation_1-auc:0.5\n",
      "[11]\tvalidation_0-auc:0.5\tvalidation_1-auc:0.5\n",
      "[12]\tvalidation_0-auc:0.5\tvalidation_1-auc:0.5\n",
      "[13]\tvalidation_0-auc:0.5\tvalidation_1-auc:0.5\n",
      "[14]\tvalidation_0-auc:0.5\tvalidation_1-auc:0.5\n",
      "[15]\tvalidation_0-auc:0.5\tvalidation_1-auc:0.5\n",
      "[16]\tvalidation_0-auc:0.5\tvalidation_1-auc:0.5\n",
      "[17]\tvalidation_0-auc:0.5\tvalidation_1-auc:0.5\n",
      "[18]\tvalidation_0-auc:0.5\tvalidation_1-auc:0.5\n",
      "[19]\tvalidation_0-auc:0.675522\tvalidation_1-auc:0.660756\n",
      "[20]\tvalidation_0-auc:0.675522\tvalidation_1-auc:0.660756\n",
      "[21]\tvalidation_0-auc:0.706383\tvalidation_1-auc:0.690292\n",
      "[22]\tvalidation_0-auc:0.715303\tvalidation_1-auc:0.699714\n",
      "[23]\tvalidation_0-auc:0.717149\tvalidation_1-auc:0.701163\n",
      "[24]\tvalidation_0-auc:0.721819\tvalidation_1-auc:0.706566\n",
      "[25]\tvalidation_0-auc:0.725304\tvalidation_1-auc:0.709254\n",
      "[26]\tvalidation_0-auc:0.723238\tvalidation_1-auc:0.707358\n",
      "[27]\tvalidation_0-auc:0.723926\tvalidation_1-auc:0.709166\n",
      "[28]\tvalidation_0-auc:0.728834\tvalidation_1-auc:0.712284\n",
      "[29]\tvalidation_0-auc:0.728809\tvalidation_1-auc:0.7119\n",
      "[30]\tvalidation_0-auc:0.728919\tvalidation_1-auc:0.711674\n",
      "[31]\tvalidation_0-auc:0.728769\tvalidation_1-auc:0.711347\n",
      "[32]\tvalidation_0-auc:0.732152\tvalidation_1-auc:0.717194\n",
      "[33]\tvalidation_0-auc:0.732813\tvalidation_1-auc:0.717387\n",
      "[34]\tvalidation_0-auc:0.732521\tvalidation_1-auc:0.717084\n",
      "[35]\tvalidation_0-auc:0.735327\tvalidation_1-auc:0.719846\n",
      "[36]\tvalidation_0-auc:0.736742\tvalidation_1-auc:0.72008\n",
      "[37]\tvalidation_0-auc:0.738257\tvalidation_1-auc:0.720924\n",
      "[38]\tvalidation_0-auc:0.738879\tvalidation_1-auc:0.723424\n",
      "[39]\tvalidation_0-auc:0.739287\tvalidation_1-auc:0.723858\n",
      "[40]\tvalidation_0-auc:0.739912\tvalidation_1-auc:0.724528\n",
      "[41]\tvalidation_0-auc:0.73999\tvalidation_1-auc:0.72419\n",
      "[42]\tvalidation_0-auc:0.789268\tvalidation_1-auc:0.781028\n",
      "[43]\tvalidation_0-auc:0.794536\tvalidation_1-auc:0.786923\n",
      "[44]\tvalidation_0-auc:0.795314\tvalidation_1-auc:0.78867\n",
      "[45]\tvalidation_0-auc:0.797116\tvalidation_1-auc:0.791638\n",
      "[46]\tvalidation_0-auc:0.797331\tvalidation_1-auc:0.792063\n",
      "[47]\tvalidation_0-auc:0.800366\tvalidation_1-auc:0.795173\n",
      "[48]\tvalidation_0-auc:0.803757\tvalidation_1-auc:0.799284\n",
      "[49]\tvalidation_0-auc:0.814336\tvalidation_1-auc:0.807357\n",
      "[50]\tvalidation_0-auc:0.816\tvalidation_1-auc:0.81018\n",
      "[51]\tvalidation_0-auc:0.816288\tvalidation_1-auc:0.811174\n",
      "[52]\tvalidation_0-auc:0.81639\tvalidation_1-auc:0.813437\n",
      "[53]\tvalidation_0-auc:0.818534\tvalidation_1-auc:0.813646\n",
      "[54]\tvalidation_0-auc:0.819546\tvalidation_1-auc:0.813469\n",
      "[55]\tvalidation_0-auc:0.823175\tvalidation_1-auc:0.816653\n",
      "[56]\tvalidation_0-auc:0.823318\tvalidation_1-auc:0.816263\n",
      "[57]\tvalidation_0-auc:0.826548\tvalidation_1-auc:0.821692\n",
      "[58]\tvalidation_0-auc:0.826395\tvalidation_1-auc:0.821611\n",
      "[59]\tvalidation_0-auc:0.830367\tvalidation_1-auc:0.824418\n",
      "[60]\tvalidation_0-auc:0.832845\tvalidation_1-auc:0.825832\n",
      "[61]\tvalidation_0-auc:0.833972\tvalidation_1-auc:0.826531\n",
      "[62]\tvalidation_0-auc:0.835804\tvalidation_1-auc:0.827939\n",
      "[63]\tvalidation_0-auc:0.836669\tvalidation_1-auc:0.828665\n",
      "[64]\tvalidation_0-auc:0.836892\tvalidation_1-auc:0.828673\n",
      "[65]\tvalidation_0-auc:0.837946\tvalidation_1-auc:0.829123\n",
      "[66]\tvalidation_0-auc:0.838721\tvalidation_1-auc:0.829909\n",
      "[67]\tvalidation_0-auc:0.839038\tvalidation_1-auc:0.830031\n",
      "[68]\tvalidation_0-auc:0.839733\tvalidation_1-auc:0.830871\n",
      "[69]\tvalidation_0-auc:0.840206\tvalidation_1-auc:0.831459\n",
      "[70]\tvalidation_0-auc:0.840104\tvalidation_1-auc:0.831037\n",
      "[71]\tvalidation_0-auc:0.840502\tvalidation_1-auc:0.831861\n",
      "[72]\tvalidation_0-auc:0.840745\tvalidation_1-auc:0.831285\n",
      "[73]\tvalidation_0-auc:0.841748\tvalidation_1-auc:0.832389\n",
      "[74]\tvalidation_0-auc:0.842741\tvalidation_1-auc:0.832901\n",
      "[75]\tvalidation_0-auc:0.843261\tvalidation_1-auc:0.833202\n",
      "[76]\tvalidation_0-auc:0.843565\tvalidation_1-auc:0.833698\n",
      "[77]\tvalidation_0-auc:0.84422\tvalidation_1-auc:0.834532\n",
      "[78]\tvalidation_0-auc:0.844637\tvalidation_1-auc:0.834878\n",
      "[79]\tvalidation_0-auc:0.844991\tvalidation_1-auc:0.834913\n",
      "[80]\tvalidation_0-auc:0.845667\tvalidation_1-auc:0.835353\n",
      "[81]\tvalidation_0-auc:0.845873\tvalidation_1-auc:0.835802\n",
      "[82]\tvalidation_0-auc:0.846277\tvalidation_1-auc:0.836499\n",
      "[83]\tvalidation_0-auc:0.846767\tvalidation_1-auc:0.836781\n",
      "[84]\tvalidation_0-auc:0.847239\tvalidation_1-auc:0.836844\n",
      "[85]\tvalidation_0-auc:0.847453\tvalidation_1-auc:0.837102\n",
      "[86]\tvalidation_0-auc:0.847966\tvalidation_1-auc:0.83734\n",
      "[87]\tvalidation_0-auc:0.848244\tvalidation_1-auc:0.837786\n",
      "[88]\tvalidation_0-auc:0.848405\tvalidation_1-auc:0.837783\n",
      "[89]\tvalidation_0-auc:0.848501\tvalidation_1-auc:0.838054\n",
      "[90]\tvalidation_0-auc:0.848728\tvalidation_1-auc:0.838375\n",
      "[91]\tvalidation_0-auc:0.84892\tvalidation_1-auc:0.838548\n",
      "[92]\tvalidation_0-auc:0.849258\tvalidation_1-auc:0.83868\n",
      "[93]\tvalidation_0-auc:0.849417\tvalidation_1-auc:0.838765\n",
      "[94]\tvalidation_0-auc:0.849541\tvalidation_1-auc:0.838937\n",
      "[95]\tvalidation_0-auc:0.849737\tvalidation_1-auc:0.838803\n",
      "[96]\tvalidation_0-auc:0.84986\tvalidation_1-auc:0.838928\n",
      "[97]\tvalidation_0-auc:0.850125\tvalidation_1-auc:0.839092\n",
      "[98]\tvalidation_0-auc:0.850272\tvalidation_1-auc:0.839193\n",
      "[99]\tvalidation_0-auc:0.850238\tvalidation_1-auc:0.839242\n",
      "[100]\tvalidation_0-auc:0.850347\tvalidation_1-auc:0.839317\n",
      "[101]\tvalidation_0-auc:0.850387\tvalidation_1-auc:0.839152\n",
      "[102]\tvalidation_0-auc:0.850605\tvalidation_1-auc:0.839036\n",
      "[103]\tvalidation_0-auc:0.850682\tvalidation_1-auc:0.83919\n",
      "[104]\tvalidation_0-auc:0.850707\tvalidation_1-auc:0.839189\n",
      "[105]\tvalidation_0-auc:0.850813\tvalidation_1-auc:0.839016\n",
      "[106]\tvalidation_0-auc:0.850922\tvalidation_1-auc:0.839182\n",
      "[107]\tvalidation_0-auc:0.850979\tvalidation_1-auc:0.839219\n",
      "[108]\tvalidation_0-auc:0.851162\tvalidation_1-auc:0.83933\n",
      "[109]\tvalidation_0-auc:0.851412\tvalidation_1-auc:0.839478\n",
      "[110]\tvalidation_0-auc:0.851438\tvalidation_1-auc:0.839454\n",
      "[111]\tvalidation_0-auc:0.85159\tvalidation_1-auc:0.839597\n",
      "[112]\tvalidation_0-auc:0.851629\tvalidation_1-auc:0.839599\n",
      "[113]\tvalidation_0-auc:0.851977\tvalidation_1-auc:0.839881\n",
      "[114]\tvalidation_0-auc:0.852021\tvalidation_1-auc:0.839749\n",
      "[115]\tvalidation_0-auc:0.852158\tvalidation_1-auc:0.839847\n",
      "[116]\tvalidation_0-auc:0.852202\tvalidation_1-auc:0.839923\n",
      "[117]\tvalidation_0-auc:0.852485\tvalidation_1-auc:0.839856\n",
      "[118]\tvalidation_0-auc:0.852795\tvalidation_1-auc:0.839736\n",
      "[119]\tvalidation_0-auc:0.853047\tvalidation_1-auc:0.839954\n",
      "[120]\tvalidation_0-auc:0.853063\tvalidation_1-auc:0.840009\n",
      "[121]\tvalidation_0-auc:0.853204\tvalidation_1-auc:0.84004\n",
      "[122]\tvalidation_0-auc:0.853298\tvalidation_1-auc:0.840138\n",
      "[123]\tvalidation_0-auc:0.853334\tvalidation_1-auc:0.840075\n",
      "[124]\tvalidation_0-auc:0.853493\tvalidation_1-auc:0.840164\n",
      "[125]\tvalidation_0-auc:0.853576\tvalidation_1-auc:0.8401\n",
      "[126]\tvalidation_0-auc:0.85374\tvalidation_1-auc:0.839971\n",
      "[127]\tvalidation_0-auc:0.853879\tvalidation_1-auc:0.840051\n",
      "[128]\tvalidation_0-auc:0.854082\tvalidation_1-auc:0.840161\n",
      "[129]\tvalidation_0-auc:0.854104\tvalidation_1-auc:0.84011\n",
      "[130]\tvalidation_0-auc:0.854246\tvalidation_1-auc:0.840093\n",
      "[131]\tvalidation_0-auc:0.854466\tvalidation_1-auc:0.8401\n",
      "[132]\tvalidation_0-auc:0.854575\tvalidation_1-auc:0.84005\n",
      "[133]\tvalidation_0-auc:0.85463\tvalidation_1-auc:0.840107\n",
      "[134]\tvalidation_0-auc:0.854867\tvalidation_1-auc:0.840192\n",
      "[135]\tvalidation_0-auc:0.854938\tvalidation_1-auc:0.840205\n",
      "[136]\tvalidation_0-auc:0.855046\tvalidation_1-auc:0.840268\n",
      "[137]\tvalidation_0-auc:0.855147\tvalidation_1-auc:0.840255\n",
      "[138]\tvalidation_0-auc:0.855237\tvalidation_1-auc:0.840336\n",
      "[139]\tvalidation_0-auc:0.85538\tvalidation_1-auc:0.84036\n",
      "[140]\tvalidation_0-auc:0.855457\tvalidation_1-auc:0.84051\n",
      "[141]\tvalidation_0-auc:0.855622\tvalidation_1-auc:0.840399\n",
      "[142]\tvalidation_0-auc:0.855716\tvalidation_1-auc:0.840505\n",
      "[143]\tvalidation_0-auc:0.855797\tvalidation_1-auc:0.840503\n",
      "[144]\tvalidation_0-auc:0.855883\tvalidation_1-auc:0.840533\n"
     ]
    },
    {
     "name": "stdout",
     "output_type": "stream",
     "text": [
      "[145]\tvalidation_0-auc:0.855952\tvalidation_1-auc:0.840601\n",
      "[146]\tvalidation_0-auc:0.856098\tvalidation_1-auc:0.840512\n",
      "[147]\tvalidation_0-auc:0.85628\tvalidation_1-auc:0.840594\n",
      "[148]\tvalidation_0-auc:0.856388\tvalidation_1-auc:0.840626\n",
      "[149]\tvalidation_0-auc:0.856468\tvalidation_1-auc:0.840615\n",
      "[150]\tvalidation_0-auc:0.856549\tvalidation_1-auc:0.840606\n",
      "[151]\tvalidation_0-auc:0.856611\tvalidation_1-auc:0.840649\n",
      "[152]\tvalidation_0-auc:0.856656\tvalidation_1-auc:0.840552\n",
      "[153]\tvalidation_0-auc:0.856845\tvalidation_1-auc:0.840474\n",
      "[154]\tvalidation_0-auc:0.856959\tvalidation_1-auc:0.840388\n",
      "[155]\tvalidation_0-auc:0.857034\tvalidation_1-auc:0.840423\n",
      "[156]\tvalidation_0-auc:0.857117\tvalidation_1-auc:0.840409\n",
      "[157]\tvalidation_0-auc:0.857294\tvalidation_1-auc:0.84041\n",
      "[158]\tvalidation_0-auc:0.857382\tvalidation_1-auc:0.840379\n",
      "[159]\tvalidation_0-auc:0.857508\tvalidation_1-auc:0.840374\n",
      "[160]\tvalidation_0-auc:0.85754\tvalidation_1-auc:0.840324\n",
      "[161]\tvalidation_0-auc:0.857601\tvalidation_1-auc:0.840371\n",
      "[162]\tvalidation_0-auc:0.857642\tvalidation_1-auc:0.840363\n",
      "[163]\tvalidation_0-auc:0.857743\tvalidation_1-auc:0.840325\n",
      "[164]\tvalidation_0-auc:0.857834\tvalidation_1-auc:0.840402\n",
      "[165]\tvalidation_0-auc:0.857915\tvalidation_1-auc:0.840367\n",
      "[166]\tvalidation_0-auc:0.857988\tvalidation_1-auc:0.840322\n",
      "[167]\tvalidation_0-auc:0.858099\tvalidation_1-auc:0.840467\n",
      "[168]\tvalidation_0-auc:0.858146\tvalidation_1-auc:0.840403\n",
      "[169]\tvalidation_0-auc:0.858268\tvalidation_1-auc:0.840389\n",
      "[170]\tvalidation_0-auc:0.858385\tvalidation_1-auc:0.840363\n",
      "[171]\tvalidation_0-auc:0.85848\tvalidation_1-auc:0.840271\n",
      "[172]\tvalidation_0-auc:0.858553\tvalidation_1-auc:0.840282\n",
      "[173]\tvalidation_0-auc:0.858669\tvalidation_1-auc:0.840429\n",
      "[174]\tvalidation_0-auc:0.858728\tvalidation_1-auc:0.840462\n",
      "[175]\tvalidation_0-auc:0.858772\tvalidation_1-auc:0.840457\n",
      "[176]\tvalidation_0-auc:0.858824\tvalidation_1-auc:0.840591\n",
      "[177]\tvalidation_0-auc:0.858951\tvalidation_1-auc:0.840523\n",
      "[178]\tvalidation_0-auc:0.858991\tvalidation_1-auc:0.840429\n",
      "[179]\tvalidation_0-auc:0.859028\tvalidation_1-auc:0.840539\n",
      "[180]\tvalidation_0-auc:0.859076\tvalidation_1-auc:0.840563\n",
      "[181]\tvalidation_0-auc:0.859252\tvalidation_1-auc:0.840529\n",
      "[182]\tvalidation_0-auc:0.859352\tvalidation_1-auc:0.840488\n",
      "[183]\tvalidation_0-auc:0.859474\tvalidation_1-auc:0.840386\n",
      "[184]\tvalidation_0-auc:0.859579\tvalidation_1-auc:0.8404\n",
      "[185]\tvalidation_0-auc:0.859635\tvalidation_1-auc:0.840317\n",
      "[186]\tvalidation_0-auc:0.859811\tvalidation_1-auc:0.840379\n",
      "[187]\tvalidation_0-auc:0.860014\tvalidation_1-auc:0.840582\n",
      "[188]\tvalidation_0-auc:0.860097\tvalidation_1-auc:0.840591\n",
      "[189]\tvalidation_0-auc:0.860177\tvalidation_1-auc:0.84049\n",
      "[190]\tvalidation_0-auc:0.860272\tvalidation_1-auc:0.840412\n",
      "[191]\tvalidation_0-auc:0.860315\tvalidation_1-auc:0.840394\n",
      "[192]\tvalidation_0-auc:0.860418\tvalidation_1-auc:0.840393\n",
      "[193]\tvalidation_0-auc:0.860466\tvalidation_1-auc:0.840378\n",
      "[194]\tvalidation_0-auc:0.860539\tvalidation_1-auc:0.84053\n",
      "[195]\tvalidation_0-auc:0.860724\tvalidation_1-auc:0.840313\n",
      "[196]\tvalidation_0-auc:0.860797\tvalidation_1-auc:0.840335\n",
      "[197]\tvalidation_0-auc:0.860885\tvalidation_1-auc:0.840399\n",
      "[198]\tvalidation_0-auc:0.861039\tvalidation_1-auc:0.840259\n",
      "[199]\tvalidation_0-auc:0.861088\tvalidation_1-auc:0.840342\n",
      "[200]\tvalidation_0-auc:0.861199\tvalidation_1-auc:0.84038\n",
      "[201]\tvalidation_0-auc:0.861246\tvalidation_1-auc:0.840359\n",
      "Stopping. Best iteration:\n",
      "[151]\tvalidation_0-auc:0.856611\tvalidation_1-auc:0.840649\n",
      "\n",
      "Overall AUC: 0.8565492818207361\n"
     ]
    }
   ],
   "source": [
    "ratio = float(np.sum(y == 1)) / np.sum(y==0)\n",
    "\n",
    "clf = xgb.XGBClassifier(missing=9999999999,\n",
    "                max_depth = 5,\n",
    "                n_estimators=1000,\n",
    "                learning_rate=0.1, \n",
    "                nthread=4,\n",
    "                subsample=1.0,\n",
    "                colsample_bytree=0.5,\n",
    "                min_child_weight = 3,\n",
    "                scale_pos_weight = ratio,\n",
    "                reg_alpha=0.03)\n",
    "                \n",
    "clf.fit(X_train, y_train, early_stopping_rounds=50, eval_metric=\"auc\", eval_set=[(X_train, y_train), (X_val, y_val)])\n",
    "        \n",
    "print('Overall AUC:', roc_auc_score(y_train, clf.predict_proba(X_train, ntree_limit=clf.best_iteration)[:,1]))"
   ]
  },
  {
   "cell_type": "code",
   "execution_count": 70,
   "metadata": {},
   "outputs": [
    {
     "data": {
      "text/plain": [
       "array([0.00251477, 0.00068804, 0.00117994, ..., 0.00106853, 0.00474533,\n",
       "       0.00030346], dtype=float32)"
      ]
     },
     "execution_count": 70,
     "metadata": {},
     "output_type": "execute_result"
    }
   ],
   "source": [
    "from sklearn.metrics import accuracy_score, confusion_matrix, classification_report\n",
    "\n",
    "y_pred = clf.predict_proba(X_test, ntree_limit=clf.best_iteration)\n",
    "#print(accuracy_score(y_test, y_pred))\n",
    "#print(confusion_matrix(y_test, y_pred))\n",
    "#print(classification_report(y_test, y_pred))\n",
    "y_pred[:,1]"
   ]
  },
  {
   "cell_type": "code",
   "execution_count": 89,
   "metadata": {},
   "outputs": [
    {
     "name": "stdout",
     "output_type": "stream",
     "text": [
      "Roc AUC: 0.8348977778504687\n"
     ]
    },
    {
     "data": {
      "image/png": "[encoded data removed]",
      "text/plain": [
       "<matplotlib.figure.Figure at 0x10a981a20>"
      ]
     },
     "metadata": {},
     "output_type": "display_data"
    }
   ],
   "source": [
    "y_proba = clf.predict_proba(X_test)[:,1]\n",
    "print(\"Roc AUC:\", roc_auc_score(y_test, clf.predict_proba(X_test)[:,1],average='macro'))\n",
    "fpr, tpr, thresholds = roc_curve(y_test, y_proba)\n",
    "plt.plot(fpr, tpr)\n",
    "plt.plot(1)\n",
    "plt.xlabel('False positive rate')\n",
    "plt.ylabel('True positive rate')\n",
    "plt.title('ROC curve')\n",
    "plt.show()"
   ]
  },
  {
   "cell_type": "code",
   "execution_count": 92,
   "metadata": {},
   "outputs": [
    {
     "data": {
      "text/plain": [
       "array([0.00000000e+00, 6.84884597e-03, 2.05465379e-02, ...,\n",
       "       9.99520581e+01, 9.99657558e+01, 1.00000000e+02])"
      ]
     },
     "execution_count": 92,
     "metadata": {},
     "output_type": "execute_result"
    }
   ],
   "source": [
    "params = {\n",
    "        'min_child_weight': [1, 5, 10],\n",
    "        'gamma': [0.5, 1, 1.5, 2, 5],\n",
    "        'subsample': [0.6, 0.8, 1.0],\n",
    "        'colsample_bytree': [0.6, 0.8, 1.0],\n",
    "        'max_depth': [3, 4, 5]\n",
    "        }\n",
    "\n",
    "clf = xgb.XGBClassifier(missing=9999999999,\n",
    "                max_depth = 5,\n",
    "                n_estimators=1000,\n",
    "                learning_rate=0.1, \n",
    "                nthread=4,\n",
    "                subsample=1.0,\n",
    "                colsample_bytree=0.5,\n",
    "                min_child_weight = 3,\n",
    "                scale_pos_weight = ratio,\n",
    "                reg_alpha=0.03)"
   ]
  },
  {
   "cell_type": "code",
   "execution_count": null,
   "metadata": {
    "collapsed": true
   },
   "outputs": [],
   "source": []
  }
 ],
 "metadata": {
  "kernelspec": {
   "display_name": "Python 3",
   "language": "python",
   "name": "python3"
  },
  "language_info": {
   "codemirror_mode": {
    "name": "ipython",
    "version": 3
   },
   "file_extension": ".py",
   "mimetype": "text/x-python",
   "name": "python",
   "nbconvert_exporter": "python",
   "pygments_lexer": "ipython3",
   "version": "3.6.0"
  }
 },
 "nbformat": 4,
 "nbformat_minor": 2
}
