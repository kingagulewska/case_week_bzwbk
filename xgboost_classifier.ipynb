{
 "cells": [
  {
   "cell_type": "code",
   "execution_count": 14,
   "metadata": {},
   "outputs": [],
   "source": [
    "import numpy as np # linear algebra\n",
    "import pandas as pd # data processing, CSV file I/O (e.g. pd.read_csv)\n",
    "import matplotlib.pyplot as plt\n",
    "import matplotlib\n",
    "from sklearn import cross_validation\n",
    "import xgboost as xgb\n",
    "from sklearn.metrics import roc_auc_score, roc_curve\n",
    "\n",
    "import warnings \n",
    "warnings.filterwarnings(\"ignore\")"
   ]
  },
  {
   "cell_type": "code",
   "execution_count": 15,
   "metadata": {
    "collapsed": true
   },
   "outputs": [],
   "source": [
    "data = pd.read_csv(\"train.csv\") \n",
    "data = data.replace(-999999,2)\n",
    "\n",
    "X = data.iloc[:,:-1]\n",
    "y = data.TARGET"
   ]
  },
  {
   "cell_type": "code",
   "execution_count": 16,
   "metadata": {},
   "outputs": [],
   "source": [
    "features = ['var15'\n",
    ",'var38'\n",
    ",'saldo_var30'\n",
    ",'saldo_medio_var5_hace2'\n",
    ",'saldo_var37'\n",
    ",'num_var45_ult3'\n",
    ",'saldo_medio_var5_hace3'\n",
    ",'num_var22_hace3'\n",
    ",'num_var22_ult1'\n",
    ",'imp_trans_var37_ult1'\n",
    ",'num_meses_var39_vig_ult3'\n",
    ",'saldo_medio_var5_ult3'\n",
    ",'imp_ent_var16_ult1'\n",
    ",'saldo_medio_var5_ult1'\n",
    ",'imp_var43_emit_ult1'\n",
    ",'num_var22_ult3'\n",
    ",'num_var45_hace3'\n",
    ",'num_var45_hace2'\n",
    ",'saldo_medio_var12_hace2'\n",
    ",'num_var45_ult1'\n",
    ",'saldo_var31'\n",
    ",'saldo_medio_var12_ult3'\n",
    ",'imp_op_var41_comer_ult3'\n",
    ",'imp_op_var39_efect_ult1'\n",
    ",'imp_op_var39_ult1'\n",
    ",'imp_op_var41_efect_ult1'\n",
    ",'num_var37'\n",
    ",'num_var43_recib_ult1'\n",
    ",'num_op_var41_hace2'\n",
    ",'num_ent_var16_ult1']\n",
    "\n",
    "X = X[features]\n"
   ]
  },
  {
   "cell_type": "code",
   "execution_count": 17,
   "metadata": {
    "collapsed": true
   },
   "outputs": [],
   "source": [
    "from sklearn.preprocessing import normalize\n",
    "from sklearn.decomposition import PCA\n",
    "\n",
    "X_normalized = normalize(X, axis=0)\n",
    "pca = PCA(n_components=2)\n",
    "X_pca = pca.fit_transform(X_normalized)\n",
    "X['PCA1'] = X_pca[:,0]\n",
    "X['PCA2'] = X_pca[:,1]"
   ]
  },
  {
   "cell_type": "code",
   "execution_count": 18,
   "metadata": {},
   "outputs": [
    {
     "name": "stdout",
     "output_type": "stream",
     "text": [
      "(48652, 32) (15204, 32) (12164, 32)\n",
      "1909 603 496\n"
     ]
    }
   ],
   "source": [
    "from sklearn.model_selection import train_test_split\n",
    "\n",
    "X_train, X_test, y_train, y_test = train_test_split(X, y, test_size=0.2, random_state=1)\n",
    "\n",
    "X_train, X_val, y_train, y_val = train_test_split(X_train, y_train, test_size=0.2, random_state=1)\n",
    "\n",
    "print(X_train.shape, X_test.shape, X_val.shape)\n",
    "print(y_train.sum(), y_test.sum(), y_val.sum())"
   ]
  },
  {
   "cell_type": "code",
   "execution_count": 19,
   "metadata": {},
   "outputs": [
    {
     "name": "stdout",
     "output_type": "stream",
     "text": [
      "[0]\tvalidation_0-auc:0.801656\tvalidation_1-auc:0.802016\n",
      "Multiple eval metrics have been passed: 'validation_1-auc' will be used for early stopping.\n",
      "\n",
      "Will train until validation_1-auc hasn't improved in 50 rounds.\n",
      "[1]\tvalidation_0-auc:0.810507\tvalidation_1-auc:0.8097\n",
      "[2]\tvalidation_0-auc:0.815832\tvalidation_1-auc:0.817919\n",
      "[3]\tvalidation_0-auc:0.81711\tvalidation_1-auc:0.817191\n",
      "[4]\tvalidation_0-auc:0.818338\tvalidation_1-auc:0.816824\n",
      "[5]\tvalidation_0-auc:0.819803\tvalidation_1-auc:0.818152\n",
      "[6]\tvalidation_0-auc:0.819725\tvalidation_1-auc:0.817721\n",
      "[7]\tvalidation_0-auc:0.819488\tvalidation_1-auc:0.817388\n",
      "[8]\tvalidation_0-auc:0.820409\tvalidation_1-auc:0.81899\n",
      "[9]\tvalidation_0-auc:0.820576\tvalidation_1-auc:0.818594\n",
      "[10]\tvalidation_0-auc:0.820702\tvalidation_1-auc:0.817805\n",
      "[11]\tvalidation_0-auc:0.821672\tvalidation_1-auc:0.817567\n",
      "[12]\tvalidation_0-auc:0.821817\tvalidation_1-auc:0.81733\n",
      "[13]\tvalidation_0-auc:0.822821\tvalidation_1-auc:0.817479\n",
      "[14]\tvalidation_0-auc:0.823396\tvalidation_1-auc:0.818051\n",
      "[15]\tvalidation_0-auc:0.82467\tvalidation_1-auc:0.81892\n",
      "[16]\tvalidation_0-auc:0.824026\tvalidation_1-auc:0.817566\n",
      "[17]\tvalidation_0-auc:0.823993\tvalidation_1-auc:0.817906\n",
      "[18]\tvalidation_0-auc:0.827353\tvalidation_1-auc:0.821591\n",
      "[19]\tvalidation_0-auc:0.829746\tvalidation_1-auc:0.821851\n",
      "[20]\tvalidation_0-auc:0.830362\tvalidation_1-auc:0.822095\n",
      "[21]\tvalidation_0-auc:0.829808\tvalidation_1-auc:0.821719\n",
      "[22]\tvalidation_0-auc:0.830579\tvalidation_1-auc:0.823182\n",
      "[23]\tvalidation_0-auc:0.830727\tvalidation_1-auc:0.822997\n",
      "[24]\tvalidation_0-auc:0.830822\tvalidation_1-auc:0.823312\n",
      "[25]\tvalidation_0-auc:0.832106\tvalidation_1-auc:0.825022\n",
      "[26]\tvalidation_0-auc:0.832765\tvalidation_1-auc:0.826986\n",
      "[27]\tvalidation_0-auc:0.8344\tvalidation_1-auc:0.827571\n",
      "[28]\tvalidation_0-auc:0.834581\tvalidation_1-auc:0.827303\n",
      "[29]\tvalidation_0-auc:0.834571\tvalidation_1-auc:0.827586\n",
      "[30]\tvalidation_0-auc:0.835481\tvalidation_1-auc:0.827819\n",
      "[31]\tvalidation_0-auc:0.836072\tvalidation_1-auc:0.827849\n",
      "[32]\tvalidation_0-auc:0.836279\tvalidation_1-auc:0.828042\n",
      "[33]\tvalidation_0-auc:0.836496\tvalidation_1-auc:0.828638\n",
      "[34]\tvalidation_0-auc:0.836883\tvalidation_1-auc:0.828561\n",
      "[35]\tvalidation_0-auc:0.837678\tvalidation_1-auc:0.829121\n",
      "[36]\tvalidation_0-auc:0.83816\tvalidation_1-auc:0.829672\n",
      "[37]\tvalidation_0-auc:0.838583\tvalidation_1-auc:0.829628\n",
      "[38]\tvalidation_0-auc:0.839252\tvalidation_1-auc:0.830481\n",
      "[39]\tvalidation_0-auc:0.839777\tvalidation_1-auc:0.830381\n",
      "[40]\tvalidation_0-auc:0.840797\tvalidation_1-auc:0.831112\n",
      "[41]\tvalidation_0-auc:0.841469\tvalidation_1-auc:0.831659\n",
      "[42]\tvalidation_0-auc:0.84196\tvalidation_1-auc:0.832251\n",
      "[43]\tvalidation_0-auc:0.842301\tvalidation_1-auc:0.832268\n",
      "[44]\tvalidation_0-auc:0.842643\tvalidation_1-auc:0.832533\n",
      "[45]\tvalidation_0-auc:0.843071\tvalidation_1-auc:0.833017\n",
      "[46]\tvalidation_0-auc:0.843677\tvalidation_1-auc:0.833131\n",
      "[47]\tvalidation_0-auc:0.844162\tvalidation_1-auc:0.833275\n",
      "[48]\tvalidation_0-auc:0.844451\tvalidation_1-auc:0.833447\n",
      "[49]\tvalidation_0-auc:0.844783\tvalidation_1-auc:0.833518\n",
      "[50]\tvalidation_0-auc:0.845177\tvalidation_1-auc:0.833858\n",
      "[51]\tvalidation_0-auc:0.845742\tvalidation_1-auc:0.834259\n",
      "[52]\tvalidation_0-auc:0.845988\tvalidation_1-auc:0.834682\n",
      "[53]\tvalidation_0-auc:0.846215\tvalidation_1-auc:0.834832\n",
      "[54]\tvalidation_0-auc:0.846475\tvalidation_1-auc:0.835124\n",
      "[55]\tvalidation_0-auc:0.847081\tvalidation_1-auc:0.835047\n",
      "[56]\tvalidation_0-auc:0.847408\tvalidation_1-auc:0.835032\n",
      "[57]\tvalidation_0-auc:0.847832\tvalidation_1-auc:0.835078\n",
      "[58]\tvalidation_0-auc:0.848152\tvalidation_1-auc:0.834952\n",
      "[59]\tvalidation_0-auc:0.848628\tvalidation_1-auc:0.835248\n",
      "[60]\tvalidation_0-auc:0.848945\tvalidation_1-auc:0.835508\n",
      "[61]\tvalidation_0-auc:0.849468\tvalidation_1-auc:0.835425\n",
      "[62]\tvalidation_0-auc:0.849714\tvalidation_1-auc:0.835294\n",
      "[63]\tvalidation_0-auc:0.849834\tvalidation_1-auc:0.835216\n",
      "[64]\tvalidation_0-auc:0.850074\tvalidation_1-auc:0.835266\n",
      "[65]\tvalidation_0-auc:0.850351\tvalidation_1-auc:0.835374\n",
      "[66]\tvalidation_0-auc:0.850522\tvalidation_1-auc:0.83526\n",
      "[67]\tvalidation_0-auc:0.850786\tvalidation_1-auc:0.835501\n",
      "[68]\tvalidation_0-auc:0.85107\tvalidation_1-auc:0.835157\n",
      "[69]\tvalidation_0-auc:0.851272\tvalidation_1-auc:0.835394\n",
      "[70]\tvalidation_0-auc:0.851599\tvalidation_1-auc:0.835442\n",
      "[71]\tvalidation_0-auc:0.851748\tvalidation_1-auc:0.835398\n",
      "[72]\tvalidation_0-auc:0.852014\tvalidation_1-auc:0.835797\n",
      "[73]\tvalidation_0-auc:0.852427\tvalidation_1-auc:0.835647\n",
      "[74]\tvalidation_0-auc:0.852542\tvalidation_1-auc:0.835857\n",
      "[75]\tvalidation_0-auc:0.852708\tvalidation_1-auc:0.835886\n",
      "[76]\tvalidation_0-auc:0.852794\tvalidation_1-auc:0.835944\n",
      "[77]\tvalidation_0-auc:0.853037\tvalidation_1-auc:0.835901\n",
      "[78]\tvalidation_0-auc:0.85333\tvalidation_1-auc:0.836073\n",
      "[79]\tvalidation_0-auc:0.853452\tvalidation_1-auc:0.83587\n",
      "[80]\tvalidation_0-auc:0.853642\tvalidation_1-auc:0.835825\n",
      "[81]\tvalidation_0-auc:0.853908\tvalidation_1-auc:0.835964\n",
      "[82]\tvalidation_0-auc:0.854207\tvalidation_1-auc:0.836012\n",
      "[83]\tvalidation_0-auc:0.854357\tvalidation_1-auc:0.836003\n",
      "[84]\tvalidation_0-auc:0.854389\tvalidation_1-auc:0.835939\n",
      "[85]\tvalidation_0-auc:0.85454\tvalidation_1-auc:0.836081\n",
      "[86]\tvalidation_0-auc:0.854764\tvalidation_1-auc:0.8365\n",
      "[87]\tvalidation_0-auc:0.855195\tvalidation_1-auc:0.836996\n",
      "[88]\tvalidation_0-auc:0.855224\tvalidation_1-auc:0.837045\n",
      "[89]\tvalidation_0-auc:0.855428\tvalidation_1-auc:0.837155\n",
      "[90]\tvalidation_0-auc:0.855514\tvalidation_1-auc:0.837154\n",
      "[91]\tvalidation_0-auc:0.855848\tvalidation_1-auc:0.837124\n",
      "[92]\tvalidation_0-auc:0.855989\tvalidation_1-auc:0.837289\n",
      "[93]\tvalidation_0-auc:0.856134\tvalidation_1-auc:0.837428\n",
      "[94]\tvalidation_0-auc:0.856312\tvalidation_1-auc:0.837569\n",
      "[95]\tvalidation_0-auc:0.856373\tvalidation_1-auc:0.837698\n",
      "[96]\tvalidation_0-auc:0.856463\tvalidation_1-auc:0.837661\n",
      "[97]\tvalidation_0-auc:0.856551\tvalidation_1-auc:0.837548\n",
      "[98]\tvalidation_0-auc:0.856619\tvalidation_1-auc:0.83748\n",
      "[99]\tvalidation_0-auc:0.856704\tvalidation_1-auc:0.837415\n",
      "Overall AUC: 0.8563120025019616\n"
     ]
    }
   ],
   "source": [
    "clf = xgb.XGBClassifier()\n",
    "                \n",
    "clf.fit(X_train, y_train, early_stopping_rounds=50, eval_metric=\"auc\", eval_set=[(X_train, y_train), (X_val, y_val)])\n",
    "        \n",
    "print('Overall AUC:', roc_auc_score(y_train, clf.predict_proba(X_train, ntree_limit=clf.best_iteration)[:,1]))"
   ]
  },
  {
   "cell_type": "code",
   "execution_count": null,
   "metadata": {},
   "outputs": [],
   "source": [
    "y_proba = clf.predict_proba(X_test)[:,1]\n",
    "print(\"Roc AUC:\", roc_auc_score(y_test, clf.predict_proba(X_test)[:,1],average='macro'))\n",
    "fpr, tpr, thresholds = roc_curve(y_test, y_proba)\n",
    "plt.plot(fpr, tpr)\n",
    "plt.plot(1)\n",
    "plt.xlabel('False positive rate')\n",
    "plt.ylabel('True positive rate')\n",
    "plt.title('ROC curve')\n",
    "plt.show()"
   ]
  },
  {
   "cell_type": "code",
   "execution_count": 30,
   "metadata": {},
   "outputs": [],
   "source": [
    "from sklearn.model_selection import StratifiedKFold\n",
    "from sklearn.model_selection import RandomizedSearchCV, GridSearchCV\n",
    "\n",
    "model = xgb.XGBClassifier()\n",
    "n_estimators = range(50, 200, 50)\n",
    "\n",
    "param_grid = dict(n_estimators=n_estimators)\n",
    "\n",
    "kfold = StratifiedKFold(n_splits=10, shuffle=True, random_state=7)\n",
    "\n",
    "grid_search = GridSearchCV(model, param_grid, scoring=\"roc_auc\", n_jobs=4, cv=kfold)\n",
    "grid_result = grid_search.fit(X_test, y_test)"
   ]
  },
  {
   "cell_type": "code",
   "execution_count": 25,
   "metadata": {},
   "outputs": [
    {
     "name": "stdout",
     "output_type": "stream",
     "text": [
      "Fitting 3 folds for each of 5 candidates, totalling 15 fits\n",
      "[CV] subsample=1.0, min_child_weight=5, max_depth=3, gamma=5, colsample_bytree=1.0 \n",
      "[CV] subsample=1.0, min_child_weight=5, max_depth=3, gamma=5, colsample_bytree=1.0 \n",
      "[CV] subsample=1.0, min_child_weight=5, max_depth=3, gamma=5, colsample_bytree=1.0 \n",
      "[CV] subsample=0.6, min_child_weight=1, max_depth=5, gamma=1.5, colsample_bytree=0.8 \n",
      "[CV]  subsample=1.0, min_child_weight=5, max_depth=3, gamma=5, colsample_bytree=1.0, score=0.844636, total=  55.1s\n",
      "[CV] subsample=0.6, min_child_weight=1, max_depth=5, gamma=1.5, colsample_bytree=0.8 \n",
      "[CV]  subsample=1.0, min_child_weight=5, max_depth=3, gamma=5, colsample_bytree=1.0, score=0.820051, total=  55.5s\n",
      "[CV] subsample=0.6, min_child_weight=1, max_depth=5, gamma=1.5, colsample_bytree=0.8 \n",
      "[CV]  subsample=1.0, min_child_weight=5, max_depth=3, gamma=5, colsample_bytree=1.0, score=0.833174, total=  55.8s\n",
      "[CV] subsample=0.8, min_child_weight=5, max_depth=5, gamma=1, colsample_bytree=0.8 \n",
      "[CV]  subsample=0.6, min_child_weight=1, max_depth=5, gamma=1.5, colsample_bytree=0.8, score=0.822135, total= 1.2min\n",
      "[CV] subsample=0.8, min_child_weight=5, max_depth=5, gamma=1, colsample_bytree=0.8 \n",
      "[CV]  subsample=0.6, min_child_weight=1, max_depth=5, gamma=1.5, colsample_bytree=0.8, score=0.843192, total= 1.4min\n",
      "[CV] subsample=0.8, min_child_weight=5, max_depth=5, gamma=1, colsample_bytree=0.8 \n",
      "[CV]  subsample=0.6, min_child_weight=1, max_depth=5, gamma=1.5, colsample_bytree=0.8, score=0.834483, total= 1.4min\n",
      "[CV] subsample=1.0, min_child_weight=5, max_depth=5, gamma=5, colsample_bytree=0.6 \n",
      "[CV]  subsample=0.8, min_child_weight=5, max_depth=5, gamma=1, colsample_bytree=0.8, score=0.824378, total= 1.4min\n",
      "[CV] subsample=1.0, min_child_weight=5, max_depth=5, gamma=5, colsample_bytree=0.6 \n",
      "[CV]  subsample=0.8, min_child_weight=5, max_depth=5, gamma=1, colsample_bytree=0.8, score=0.841987, total= 1.4min\n",
      "[CV] subsample=1.0, min_child_weight=5, max_depth=5, gamma=5, colsample_bytree=0.6 \n",
      "[CV]  subsample=1.0, min_child_weight=5, max_depth=5, gamma=5, colsample_bytree=0.6, score=0.824464, total= 1.0min\n",
      "[CV] subsample=0.8, min_child_weight=1, max_depth=4, gamma=1, colsample_bytree=1.0 \n",
      "[CV]  subsample=1.0, min_child_weight=5, max_depth=5, gamma=5, colsample_bytree=0.6, score=0.844803, total= 1.0min\n",
      "[CV] subsample=0.8, min_child_weight=1, max_depth=4, gamma=1, colsample_bytree=1.0 \n",
      "[CV]  subsample=0.8, min_child_weight=5, max_depth=5, gamma=1, colsample_bytree=0.8, score=0.834297, total= 1.2min\n",
      "[CV] subsample=0.8, min_child_weight=1, max_depth=4, gamma=1, colsample_bytree=1.0 \n",
      "[CV]  subsample=1.0, min_child_weight=5, max_depth=5, gamma=5, colsample_bytree=0.6, score=0.834433, total=  58.2s\n"
     ]
    },
    {
     "name": "stderr",
     "output_type": "stream",
     "text": [
      "Process ForkPoolWorker-4:\n",
      "Traceback (most recent call last):\n",
      "  File \"/usr/local/Cellar/python3/3.6.0_1/Frameworks/Python.framework/Versions/3.6/lib/python3.6/multiprocessing/process.py\", line 249, in _bootstrap\n",
      "    self.run()\n",
      "  File \"/usr/local/Cellar/python3/3.6.0_1/Frameworks/Python.framework/Versions/3.6/lib/python3.6/multiprocessing/process.py\", line 93, in run\n",
      "    self._target(*self._args, **self._kwargs)\n",
      "  File \"/usr/local/Cellar/python3/3.6.0_1/Frameworks/Python.framework/Versions/3.6/lib/python3.6/multiprocessing/pool.py\", line 108, in worker\n",
      "    task = get()\n"
     ]
    },
    {
     "ename": "KeyboardInterrupt",
     "evalue": "",
     "output_type": "error",
     "traceback": [
      "\u001b[0;31m---------------------------------------------------------------------------\u001b[0m",
      "\u001b[0;31mKeyboardInterrupt\u001b[0m                         Traceback (most recent call last)",
      "\u001b[0;32m<ipython-input-25-c4ff8785c5dc>\u001b[0m in \u001b[0;36m<module>\u001b[0;34m()\u001b[0m\n\u001b[1;32m     21\u001b[0m \u001b[0;34m\u001b[0m\u001b[0m\n\u001b[1;32m     22\u001b[0m \u001b[0;31m# Here we go\u001b[0m\u001b[0;34m\u001b[0m\u001b[0;34m\u001b[0m\u001b[0m\n\u001b[0;32m---> 23\u001b[0;31m \u001b[0mrandom_search\u001b[0m\u001b[0;34m.\u001b[0m\u001b[0mfit\u001b[0m\u001b[0;34m(\u001b[0m\u001b[0mX_train\u001b[0m\u001b[0;34m,\u001b[0m \u001b[0my_train\u001b[0m\u001b[0;34m)\u001b[0m\u001b[0;34m\u001b[0m\u001b[0m\n\u001b[0m",
      "\u001b[0;32m/Users/kingagulewska/.virtualenvs/py3.6/lib/python3.6/site-packages/sklearn/model_selection/_search.py\u001b[0m in \u001b[0;36mfit\u001b[0;34m(self, X, y, groups)\u001b[0m\n\u001b[1;32m   1188\u001b[0m                                           \u001b[0mself\u001b[0m\u001b[0;34m.\u001b[0m\u001b[0mn_iter\u001b[0m\u001b[0;34m,\u001b[0m\u001b[0;34m\u001b[0m\u001b[0m\n\u001b[1;32m   1189\u001b[0m                                           random_state=self.random_state)\n\u001b[0;32m-> 1190\u001b[0;31m         \u001b[0;32mreturn\u001b[0m \u001b[0mself\u001b[0m\u001b[0;34m.\u001b[0m\u001b[0m_fit\u001b[0m\u001b[0;34m(\u001b[0m\u001b[0mX\u001b[0m\u001b[0;34m,\u001b[0m \u001b[0my\u001b[0m\u001b[0;34m,\u001b[0m \u001b[0mgroups\u001b[0m\u001b[0;34m,\u001b[0m \u001b[0msampled_params\u001b[0m\u001b[0;34m)\u001b[0m\u001b[0;34m\u001b[0m\u001b[0m\n\u001b[0m",
      "\u001b[0;32m/Users/kingagulewska/.virtualenvs/py3.6/lib/python3.6/site-packages/sklearn/model_selection/_search.py\u001b[0m in \u001b[0;36m_fit\u001b[0;34m(self, X, y, groups, parameter_iterable)\u001b[0m\n\u001b[1;32m    562\u001b[0m                                   \u001b[0mreturn_times\u001b[0m\u001b[0;34m=\u001b[0m\u001b[0;32mTrue\u001b[0m\u001b[0;34m,\u001b[0m \u001b[0mreturn_parameters\u001b[0m\u001b[0;34m=\u001b[0m\u001b[0;32mTrue\u001b[0m\u001b[0;34m,\u001b[0m\u001b[0;34m\u001b[0m\u001b[0m\n\u001b[1;32m    563\u001b[0m                                   error_score=self.error_score)\n\u001b[0;32m--> 564\u001b[0;31m           \u001b[0;32mfor\u001b[0m \u001b[0mparameters\u001b[0m \u001b[0;32min\u001b[0m \u001b[0mparameter_iterable\u001b[0m\u001b[0;34m\u001b[0m\u001b[0m\n\u001b[0m\u001b[1;32m    565\u001b[0m           for train, test in cv_iter)\n\u001b[1;32m    566\u001b[0m \u001b[0;34m\u001b[0m\u001b[0m\n",
      "\u001b[0;32m/Users/kingagulewska/.virtualenvs/py3.6/lib/python3.6/site-packages/sklearn/externals/joblib/parallel.py\u001b[0m in \u001b[0;36m__call__\u001b[0;34m(self, iterable)\u001b[0m\n\u001b[1;32m    766\u001b[0m                 \u001b[0;31m# consumption.\u001b[0m\u001b[0;34m\u001b[0m\u001b[0;34m\u001b[0m\u001b[0m\n\u001b[1;32m    767\u001b[0m                 \u001b[0mself\u001b[0m\u001b[0;34m.\u001b[0m\u001b[0m_iterating\u001b[0m \u001b[0;34m=\u001b[0m \u001b[0;32mFalse\u001b[0m\u001b[0;34m\u001b[0m\u001b[0m\n\u001b[0;32m--> 768\u001b[0;31m             \u001b[0mself\u001b[0m\u001b[0;34m.\u001b[0m\u001b[0mretrieve\u001b[0m\u001b[0;34m(\u001b[0m\u001b[0;34m)\u001b[0m\u001b[0;34m\u001b[0m\u001b[0m\n\u001b[0m\u001b[1;32m    769\u001b[0m             \u001b[0;31m# Make sure that we get a last message telling us we are done\u001b[0m\u001b[0;34m\u001b[0m\u001b[0;34m\u001b[0m\u001b[0m\n\u001b[1;32m    770\u001b[0m             \u001b[0melapsed_time\u001b[0m \u001b[0;34m=\u001b[0m \u001b[0mtime\u001b[0m\u001b[0;34m.\u001b[0m\u001b[0mtime\u001b[0m\u001b[0;34m(\u001b[0m\u001b[0;34m)\u001b[0m \u001b[0;34m-\u001b[0m \u001b[0mself\u001b[0m\u001b[0;34m.\u001b[0m\u001b[0m_start_time\u001b[0m\u001b[0;34m\u001b[0m\u001b[0m\n",
      "\u001b[0;32m/Users/kingagulewska/.virtualenvs/py3.6/lib/python3.6/site-packages/sklearn/externals/joblib/parallel.py\u001b[0m in \u001b[0;36mretrieve\u001b[0;34m(self)\u001b[0m\n\u001b[1;32m    717\u001b[0m                     \u001b[0mensure_ready\u001b[0m \u001b[0;34m=\u001b[0m \u001b[0mself\u001b[0m\u001b[0;34m.\u001b[0m\u001b[0m_managed_backend\u001b[0m\u001b[0;34m\u001b[0m\u001b[0m\n\u001b[1;32m    718\u001b[0m                     \u001b[0mbackend\u001b[0m\u001b[0;34m.\u001b[0m\u001b[0mabort_everything\u001b[0m\u001b[0;34m(\u001b[0m\u001b[0mensure_ready\u001b[0m\u001b[0;34m=\u001b[0m\u001b[0mensure_ready\u001b[0m\u001b[0;34m)\u001b[0m\u001b[0;34m\u001b[0m\u001b[0m\n\u001b[0;32m--> 719\u001b[0;31m                 \u001b[0;32mraise\u001b[0m \u001b[0mexception\u001b[0m\u001b[0;34m\u001b[0m\u001b[0m\n\u001b[0m\u001b[1;32m    720\u001b[0m \u001b[0;34m\u001b[0m\u001b[0m\n\u001b[1;32m    721\u001b[0m     \u001b[0;32mdef\u001b[0m \u001b[0m__call__\u001b[0m\u001b[0;34m(\u001b[0m\u001b[0mself\u001b[0m\u001b[0;34m,\u001b[0m \u001b[0miterable\u001b[0m\u001b[0;34m)\u001b[0m\u001b[0;34m:\u001b[0m\u001b[0;34m\u001b[0m\u001b[0m\n",
      "\u001b[0;32m/Users/kingagulewska/.virtualenvs/py3.6/lib/python3.6/site-packages/sklearn/externals/joblib/parallel.py\u001b[0m in \u001b[0;36mretrieve\u001b[0;34m(self)\u001b[0m\n\u001b[1;32m    680\u001b[0m                 \u001b[0;31m# check if timeout supported in backend future implementation\u001b[0m\u001b[0;34m\u001b[0m\u001b[0;34m\u001b[0m\u001b[0m\n\u001b[1;32m    681\u001b[0m                 \u001b[0;32mif\u001b[0m \u001b[0;34m'timeout'\u001b[0m \u001b[0;32min\u001b[0m \u001b[0mgetfullargspec\u001b[0m\u001b[0;34m(\u001b[0m\u001b[0mjob\u001b[0m\u001b[0;34m.\u001b[0m\u001b[0mget\u001b[0m\u001b[0;34m)\u001b[0m\u001b[0;34m.\u001b[0m\u001b[0margs\u001b[0m\u001b[0;34m:\u001b[0m\u001b[0;34m\u001b[0m\u001b[0m\n\u001b[0;32m--> 682\u001b[0;31m                     \u001b[0mself\u001b[0m\u001b[0;34m.\u001b[0m\u001b[0m_output\u001b[0m\u001b[0;34m.\u001b[0m\u001b[0mextend\u001b[0m\u001b[0;34m(\u001b[0m\u001b[0mjob\u001b[0m\u001b[0;34m.\u001b[0m\u001b[0mget\u001b[0m\u001b[0;34m(\u001b[0m\u001b[0mtimeout\u001b[0m\u001b[0;34m=\u001b[0m\u001b[0mself\u001b[0m\u001b[0;34m.\u001b[0m\u001b[0mtimeout\u001b[0m\u001b[0;34m)\u001b[0m\u001b[0;34m)\u001b[0m\u001b[0;34m\u001b[0m\u001b[0m\n\u001b[0m\u001b[1;32m    683\u001b[0m                 \u001b[0;32melse\u001b[0m\u001b[0;34m:\u001b[0m\u001b[0;34m\u001b[0m\u001b[0m\n\u001b[1;32m    684\u001b[0m                     \u001b[0mself\u001b[0m\u001b[0;34m.\u001b[0m\u001b[0m_output\u001b[0m\u001b[0;34m.\u001b[0m\u001b[0mextend\u001b[0m\u001b[0;34m(\u001b[0m\u001b[0mjob\u001b[0m\u001b[0;34m.\u001b[0m\u001b[0mget\u001b[0m\u001b[0;34m(\u001b[0m\u001b[0;34m)\u001b[0m\u001b[0;34m)\u001b[0m\u001b[0;34m\u001b[0m\u001b[0m\n",
      "\u001b[0;32m/usr/local/Cellar/python3/3.6.0_1/Frameworks/Python.framework/Versions/3.6/lib/python3.6/multiprocessing/pool.py\u001b[0m in \u001b[0;36mget\u001b[0;34m(self, timeout)\u001b[0m\n\u001b[1;32m    600\u001b[0m \u001b[0;34m\u001b[0m\u001b[0m\n\u001b[1;32m    601\u001b[0m     \u001b[0;32mdef\u001b[0m \u001b[0mget\u001b[0m\u001b[0;34m(\u001b[0m\u001b[0mself\u001b[0m\u001b[0;34m,\u001b[0m \u001b[0mtimeout\u001b[0m\u001b[0;34m=\u001b[0m\u001b[0;32mNone\u001b[0m\u001b[0;34m)\u001b[0m\u001b[0;34m:\u001b[0m\u001b[0;34m\u001b[0m\u001b[0m\n\u001b[0;32m--> 602\u001b[0;31m         \u001b[0mself\u001b[0m\u001b[0;34m.\u001b[0m\u001b[0mwait\u001b[0m\u001b[0;34m(\u001b[0m\u001b[0mtimeout\u001b[0m\u001b[0;34m)\u001b[0m\u001b[0;34m\u001b[0m\u001b[0m\n\u001b[0m\u001b[1;32m    603\u001b[0m         \u001b[0;32mif\u001b[0m \u001b[0;32mnot\u001b[0m \u001b[0mself\u001b[0m\u001b[0;34m.\u001b[0m\u001b[0mready\u001b[0m\u001b[0;34m(\u001b[0m\u001b[0;34m)\u001b[0m\u001b[0;34m:\u001b[0m\u001b[0;34m\u001b[0m\u001b[0m\n\u001b[1;32m    604\u001b[0m             \u001b[0;32mraise\u001b[0m \u001b[0mTimeoutError\u001b[0m\u001b[0;34m\u001b[0m\u001b[0m\n",
      "\u001b[0;32m/usr/local/Cellar/python3/3.6.0_1/Frameworks/Python.framework/Versions/3.6/lib/python3.6/multiprocessing/pool.py\u001b[0m in \u001b[0;36mwait\u001b[0;34m(self, timeout)\u001b[0m\n\u001b[1;32m    597\u001b[0m \u001b[0;34m\u001b[0m\u001b[0m\n\u001b[1;32m    598\u001b[0m     \u001b[0;32mdef\u001b[0m \u001b[0mwait\u001b[0m\u001b[0;34m(\u001b[0m\u001b[0mself\u001b[0m\u001b[0;34m,\u001b[0m \u001b[0mtimeout\u001b[0m\u001b[0;34m=\u001b[0m\u001b[0;32mNone\u001b[0m\u001b[0;34m)\u001b[0m\u001b[0;34m:\u001b[0m\u001b[0;34m\u001b[0m\u001b[0m\n\u001b[0;32m--> 599\u001b[0;31m         \u001b[0mself\u001b[0m\u001b[0;34m.\u001b[0m\u001b[0m_event\u001b[0m\u001b[0;34m.\u001b[0m\u001b[0mwait\u001b[0m\u001b[0;34m(\u001b[0m\u001b[0mtimeout\u001b[0m\u001b[0;34m)\u001b[0m\u001b[0;34m\u001b[0m\u001b[0m\n\u001b[0m\u001b[1;32m    600\u001b[0m \u001b[0;34m\u001b[0m\u001b[0m\n\u001b[1;32m    601\u001b[0m     \u001b[0;32mdef\u001b[0m \u001b[0mget\u001b[0m\u001b[0;34m(\u001b[0m\u001b[0mself\u001b[0m\u001b[0;34m,\u001b[0m \u001b[0mtimeout\u001b[0m\u001b[0;34m=\u001b[0m\u001b[0;32mNone\u001b[0m\u001b[0;34m)\u001b[0m\u001b[0;34m:\u001b[0m\u001b[0;34m\u001b[0m\u001b[0m\n",
      "\u001b[0;32m/usr/local/Cellar/python3/3.6.0_1/Frameworks/Python.framework/Versions/3.6/lib/python3.6/threading.py\u001b[0m in \u001b[0;36mwait\u001b[0;34m(self, timeout)\u001b[0m\n\u001b[1;32m    549\u001b[0m             \u001b[0msignaled\u001b[0m \u001b[0;34m=\u001b[0m \u001b[0mself\u001b[0m\u001b[0;34m.\u001b[0m\u001b[0m_flag\u001b[0m\u001b[0;34m\u001b[0m\u001b[0m\n\u001b[1;32m    550\u001b[0m             \u001b[0;32mif\u001b[0m \u001b[0;32mnot\u001b[0m \u001b[0msignaled\u001b[0m\u001b[0;34m:\u001b[0m\u001b[0;34m\u001b[0m\u001b[0m\n\u001b[0;32m--> 551\u001b[0;31m                 \u001b[0msignaled\u001b[0m \u001b[0;34m=\u001b[0m \u001b[0mself\u001b[0m\u001b[0;34m.\u001b[0m\u001b[0m_cond\u001b[0m\u001b[0;34m.\u001b[0m\u001b[0mwait\u001b[0m\u001b[0;34m(\u001b[0m\u001b[0mtimeout\u001b[0m\u001b[0;34m)\u001b[0m\u001b[0;34m\u001b[0m\u001b[0m\n\u001b[0m\u001b[1;32m    552\u001b[0m             \u001b[0;32mreturn\u001b[0m \u001b[0msignaled\u001b[0m\u001b[0;34m\u001b[0m\u001b[0m\n\u001b[1;32m    553\u001b[0m \u001b[0;34m\u001b[0m\u001b[0m\n",
      "\u001b[0;32m/usr/local/Cellar/python3/3.6.0_1/Frameworks/Python.framework/Versions/3.6/lib/python3.6/threading.py\u001b[0m in \u001b[0;36mwait\u001b[0;34m(self, timeout)\u001b[0m\n\u001b[1;32m    293\u001b[0m         \u001b[0;32mtry\u001b[0m\u001b[0;34m:\u001b[0m    \u001b[0;31m# restore state no matter what (e.g., KeyboardInterrupt)\u001b[0m\u001b[0;34m\u001b[0m\u001b[0m\n\u001b[1;32m    294\u001b[0m             \u001b[0;32mif\u001b[0m \u001b[0mtimeout\u001b[0m \u001b[0;32mis\u001b[0m \u001b[0;32mNone\u001b[0m\u001b[0;34m:\u001b[0m\u001b[0;34m\u001b[0m\u001b[0m\n\u001b[0;32m--> 295\u001b[0;31m                 \u001b[0mwaiter\u001b[0m\u001b[0;34m.\u001b[0m\u001b[0macquire\u001b[0m\u001b[0;34m(\u001b[0m\u001b[0;34m)\u001b[0m\u001b[0;34m\u001b[0m\u001b[0m\n\u001b[0m\u001b[1;32m    296\u001b[0m                 \u001b[0mgotit\u001b[0m \u001b[0;34m=\u001b[0m \u001b[0;32mTrue\u001b[0m\u001b[0;34m\u001b[0m\u001b[0m\n\u001b[1;32m    297\u001b[0m             \u001b[0;32melse\u001b[0m\u001b[0;34m:\u001b[0m\u001b[0;34m\u001b[0m\u001b[0m\n",
      "\u001b[0;31mKeyboardInterrupt\u001b[0m: "
     ]
    }
   ],
   "source": [
    "from sklearn.model_selection import StratifiedKFold\n",
    "from sklearn.model_selection import RandomizedSearchCV, GridSearchCV\n",
    "\n",
    "params = {\n",
    "        'min_child_weight': [1, 5, 10],\n",
    "        'gamma': [0.5, 1, 1.5, 2, 5],\n",
    "        'subsample': [0.6, 0.8, 1.0],\n",
    "        'colsample_bytree': [0.6, 0.8, 1.0],\n",
    "        'max_depth': [3, 4, 5]\n",
    "        }\n",
    "\n",
    "clf = xgb.XGBClassifier(learning_rate=0.02, n_estimators=600, objective='binary:logistic', silent=True, nthread=1)\n",
    "\n",
    "folds = 3\n",
    "param_comb = 5\n",
    "\n",
    "skf = StratifiedKFold(n_splits=folds, shuffle = True, random_state = 1001)\n",
    "\n",
    "random_search = RandomizedSearchCV(clf, param_distributions=params, n_iter=param_comb, scoring='roc_auc', n_jobs=4,\n",
    "                                   cv=skf.split(X_train, y_train), verbose=3, random_state=1001 )\n",
    "\n",
    "# Here we go\n",
    "random_search.fit(X_train, y_train)\n"
   ]
  },
  {
   "cell_type": "code",
   "execution_count": null,
   "metadata": {
    "collapsed": true
   },
   "outputs": [],
   "source": []
  }
 ],
 "metadata": {
  "kernelspec": {
   "display_name": "Python 3",
   "language": "python",
   "name": "python3"
  },
  "language_info": {
   "codemirror_mode": {
    "name": "ipython",
    "version": 3
   },
   "file_extension": ".py",
   "mimetype": "text/x-python",
   "name": "python",
   "nbconvert_exporter": "python",
   "pygments_lexer": "ipython3",
   "version": "3.6.0"
  }
 },
 "nbformat": 4,
 "nbformat_minor": 2
}
